{
 "cells": [
  {
   "cell_type": "markdown",
   "metadata": {},
   "source": [
    "### 2. Add Two Numbers"
   ]
  },
  {
   "cell_type": "code",
   "execution_count": null,
   "metadata": {},
   "outputs": [],
   "source": [
    "class Solution:\n",
    "    def addTwoNumbers(self, l1: ListNode, l2: ListNode) -> ListNode:\n",
    "\n",
    "        dummy = ListNode()\n",
    "        node = dummy\n",
    "        carry = 0\n",
    "        \n",
    "        while l1 or l2 or carry:\n",
    "            val1 = (l1.val if l1 else 0)\n",
    "            val2 = (l2.val if l2 else 0)\n",
    "            \n",
    "            out = (val1 + val2 + carry) % 10\n",
    "            carry = (val1 + val2 + carry) // 10\n",
    "            \n",
    "            node.next = ListNode(out)\n",
    "            node = node.next\n",
    "            \n",
    "            l1 = (l1.next if l1 else None)\n",
    "            l2 = (l2.next if l2 else None)\n",
    "        \n",
    "        return dummy.next"
   ]
  },
  {
   "cell_type": "code",
   "execution_count": null,
   "metadata": {},
   "outputs": [],
   "source": [
    "class Solution:\n",
    "    # linked list -> reversed list\n",
    "    def toList(self, head: ListNode) -> ListNode:\n",
    "        node = head\n",
    "        temp = []\n",
    "        while node:\n",
    "            temp.append(node.val)\n",
    "            node = node.next\n",
    "        return temp[::-1]\n",
    "\n",
    "    def addTwoNumbers(self, l1: ListNode, l2: ListNode) -> ListNode:\n",
    "        # list -> str -> int(sum)\n",
    "        l1_rev = ''.join(map(str, self.toList(l1)))\n",
    "        l2_rev = ''.join(map(str, self.toList(l2)))\n",
    "        sum = int(l1_rev) + int(l2_rev)\n",
    "        \n",
    "        # str(sum) -> reversed linked list\n",
    "        prev = None\n",
    "        for s in str(sum):\n",
    "            node = ListNode(s)\n",
    "            node.next = prev\n",
    "            prev = node\n",
    "        return node"
   ]
  }
 ],
 "metadata": {
  "kernelspec": {
   "display_name": "Python 3",
   "language": "python",
   "name": "python3"
  },
  "language_info": {
   "codemirror_mode": {
    "name": "ipython",
    "version": 3
   },
   "file_extension": ".py",
   "mimetype": "text/x-python",
   "name": "python",
   "nbconvert_exporter": "python",
   "pygments_lexer": "ipython3",
   "version": "3.7.6"
  }
 },
 "nbformat": 4,
 "nbformat_minor": 4
}
