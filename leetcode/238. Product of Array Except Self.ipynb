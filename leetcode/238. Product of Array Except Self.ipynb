{
 "cells": [
  {
   "cell_type": "markdown",
   "metadata": {},
   "source": [
    "### 238. Product of Array Except Self"
   ]
  },
  {
   "cell_type": "code",
   "execution_count": null,
   "metadata": {},
   "outputs": [],
   "source": [
    "class Solution:\n",
    "    def productExceptSelf(self, nums: List[int]) -> List[int]:\n",
    "        res = []\n",
    "        # 왼쪽 값부터 차례대로 곱해서 리스트에 추가\n",
    "        mul = 1\n",
    "        for i in range(len(nums)):\n",
    "            res.append(mul)\n",
    "            mul *= nums[i]\n",
    "        # 앞의 결과에 오른쪽 값부터 차례대로 곱하기\n",
    "        mul = 1\n",
    "        for i in range(-1, -len(nums)-1, -1):\n",
    "            res[i] *= mul\n",
    "            mul *= nums[i]\n",
    "        return res"
   ]
  }
 ],
 "metadata": {
  "kernelspec": {
   "display_name": "Python 3",
   "language": "python",
   "name": "python3"
  },
  "language_info": {
   "codemirror_mode": {
    "name": "ipython",
    "version": 3
   },
   "file_extension": ".py",
   "mimetype": "text/x-python",
   "name": "python",
   "nbconvert_exporter": "python",
   "pygments_lexer": "ipython3",
   "version": "3.7.6"
  }
 },
 "nbformat": 4,
 "nbformat_minor": 4
}
