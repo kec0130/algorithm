{
 "cells": [
  {
   "cell_type": "markdown",
   "metadata": {},
   "source": [
    "### 1694. Reformat Phone Number"
   ]
  },
  {
   "cell_type": "code",
   "execution_count": 1,
   "metadata": {},
   "outputs": [],
   "source": [
    "# 문자열로 푸는 방법\n",
    "class Solution:\n",
    "    def reformatNumber(self, number: str) -> str:\n",
    "        # 공백과 dash 제거\n",
    "        num = number.replace(\" \", \"\").replace(\"-\", \"\")\n",
    "        # 숫자가 4개 남을 때까지 3개씩 이어 붙이기 반복\n",
    "        answer = \"\"\n",
    "        while len(num) > 4:\n",
    "            answer += num[:3] + \"-\"\n",
    "            num = num[3:]\n",
    "        # 4개 남으면 2개씩 이어 붙이기\n",
    "        if len(num) == 4:\n",
    "            answer += num[:2] + \"-\" + num[2:]\n",
    "        # 2개 or 3개 남으면 나머지 모두 붙이기\n",
    "        else:\n",
    "            answer += num\n",
    "        return answer"
   ]
  },
  {
   "cell_type": "code",
   "execution_count": 2,
   "metadata": {},
   "outputs": [],
   "source": [
    "# 리스트로 푸는 방법\n",
    "class Solution:\n",
    "    def reformatNumber(self, number: str) -> str:\n",
    "        # 리스트 컴프리헨션으로 숫자만 남기기\n",
    "        num = \"\".join([n for n in number if n.isdigit()])\n",
    "        # 숫자가 4개 남을 때까지 리스트에 3개씩 추가 반복\n",
    "        blocks = []\n",
    "        while len(num) > 4:\n",
    "            blocks.append(num[:3])\n",
    "            num = num[3:]\n",
    "        # 4개 남으면 2개씩 추가\n",
    "        if len(num) == 4:\n",
    "            blocks.append(num[:2])\n",
    "            blocks.append(num[2:])\n",
    "        # 2개 or 3개 남으면 나머지 모두 추가\n",
    "        else:\n",
    "            blocks.append(num)\n",
    "        # dash로 연결\n",
    "        return \"-\".join(blocks)"
   ]
  }
 ],
 "metadata": {
  "kernelspec": {
   "display_name": "Python 3",
   "language": "python",
   "name": "python3"
  },
  "language_info": {
   "codemirror_mode": {
    "name": "ipython",
    "version": 3
   },
   "file_extension": ".py",
   "mimetype": "text/x-python",
   "name": "python",
   "nbconvert_exporter": "python",
   "pygments_lexer": "ipython3",
   "version": "3.7.6"
  }
 },
 "nbformat": 4,
 "nbformat_minor": 4
}
