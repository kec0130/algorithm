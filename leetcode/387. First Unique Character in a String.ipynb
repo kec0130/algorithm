{
 "cells": [
  {
   "cell_type": "markdown",
   "metadata": {},
   "source": [
    "### 387. First Unique Character in a String"
   ]
  },
  {
   "cell_type": "code",
   "execution_count": 1,
   "metadata": {},
   "outputs": [],
   "source": [
    "# Counter를 사용한 방법\n",
    "from collections import Counter\n",
    "\n",
    "class Solution:\n",
    "    def firstUniqChar(self, s: str) -> int:\n",
    "        # 각 문자 수 집계\n",
    "        count = Counter(s)\n",
    "        # 1회 사용된 문자의 인덱스 반환\n",
    "        for i in s:\n",
    "            if count[i] == 1:\n",
    "                return s.index(i)\n",
    "        # 1회만 사용된 문자가 없으면 -1 반환\n",
    "        return -1"
   ]
  },
  {
   "cell_type": "code",
   "execution_count": 2,
   "metadata": {},
   "outputs": [],
   "source": [
    "# 1회 사용된 문자를 리스트에 추가하는 방법\n",
    "class Solution:\n",
    "    def firstUniqChar(self, s: str) -> int:\n",
    "        chars = set(s)\n",
    "        appear_once = []\n",
    "        for i in chars:\n",
    "            if s.count(i) == 1:\n",
    "                appear_once.append(s.index(i))\n",
    "        if len(appear_once) == 0:\n",
    "            return -1\n",
    "        else:\n",
    "            return min(appear_once)"
   ]
  }
 ],
 "metadata": {
  "kernelspec": {
   "display_name": "Python 3",
   "language": "python",
   "name": "python3"
  },
  "language_info": {
   "codemirror_mode": {
    "name": "ipython",
    "version": 3
   },
   "file_extension": ".py",
   "mimetype": "text/x-python",
   "name": "python",
   "nbconvert_exporter": "python",
   "pygments_lexer": "ipython3",
   "version": "3.7.6"
  }
 },
 "nbformat": 4,
 "nbformat_minor": 4
}
