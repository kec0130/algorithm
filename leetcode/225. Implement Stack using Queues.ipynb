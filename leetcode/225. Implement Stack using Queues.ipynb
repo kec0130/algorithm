{
 "cells": [
  {
   "cell_type": "markdown",
   "metadata": {},
   "source": [
    "## 225. Implement Stack using Queues (큐를 이용한 스택 구현)\n",
    "- 두 개의 큐를 사용해 push, top, pop, empty 연산을 지원하는 스택을 구현하는 문제"
   ]
  },
  {
   "cell_type": "code",
   "execution_count": null,
   "metadata": {},
   "outputs": [],
   "source": [
    "# 두 개의 큐를 사용한 풀이\n",
    "class MyStack:\n",
    "\n",
    "    def __init__(self):\n",
    "        self.q1 = []  # 원소 추가용\n",
    "        self.q2 = []  # pop과 top에 사용될 껍데기\n",
    "\n",
    "    def push(self, x: int) -> None:\n",
    "        self.q1.append(x)\n",
    "        \n",
    "    def pop(self) -> int:\n",
    "        for _ in range(len(self.q1)-1):\n",
    "            self.q2.append(self.q1.pop(0))\n",
    "        result = self.q1.pop(0)\n",
    "        self.q1 = self.q2\n",
    "        self.q2 = []\n",
    "        return result\n",
    "\n",
    "    def top(self) -> int:\n",
    "        for _ in range(len(self.q1)-1):\n",
    "            self.q2.append(self.q1.pop(0))\n",
    "        result = self.q1.pop(0)\n",
    "        self.q2.append(result)\n",
    "        self.q1 = self.q2\n",
    "        self.q2 = []\n",
    "        return result\n",
    "\n",
    "    def empty(self) -> bool:\n",
    "        return len(self.q1) == 0"
   ]
  },
  {
   "cell_type": "code",
   "execution_count": null,
   "metadata": {},
   "outputs": [],
   "source": [
    "# 교재 풀이 (deque 사용)\n",
    "class MyStack:\n",
    "\n",
    "    def __init__(self):\n",
    "        self.q = collections.deque()        \n",
    "\n",
    "    def push(self, x: int) -> None:\n",
    "        self.q.append(x)\n",
    "        for _ in range(len(self.q)-1):\n",
    "            self.q.append(self.q.popleft())\n",
    "        \n",
    "    def pop(self) -> int:\n",
    "        return self.q.popleft()        \n",
    "\n",
    "    def top(self) -> int:\n",
    "        return self.q[0]        \n",
    "\n",
    "    def empty(self) -> bool:\n",
    "        return len(self.q) == 0"
   ]
  }
 ],
 "metadata": {
  "kernelspec": {
   "display_name": "Python 3",
   "language": "python",
   "name": "python3"
  },
  "language_info": {
   "codemirror_mode": {
    "name": "ipython",
    "version": 3
   },
   "file_extension": ".py",
   "mimetype": "text/x-python",
   "name": "python",
   "nbconvert_exporter": "python",
   "pygments_lexer": "ipython3",
   "version": "3.7.6"
  }
 },
 "nbformat": 4,
 "nbformat_minor": 4
}
