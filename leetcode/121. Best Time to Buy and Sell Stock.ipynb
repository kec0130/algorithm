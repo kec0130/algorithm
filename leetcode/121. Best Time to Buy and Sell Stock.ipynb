{
 "cells": [
  {
   "cell_type": "markdown",
   "metadata": {},
   "source": [
    "### 121. Best Time to Buy and Sell Stock"
   ]
  },
  {
   "cell_type": "code",
   "execution_count": null,
   "metadata": {},
   "outputs": [],
   "source": [
    "class Solution:\n",
    "    def maxProfit(self, prices: List[int]) -> int:\n",
    "        # 변수 초기값 설정\n",
    "        profit = 0\n",
    "        min_price = 99999999\n",
    "\n",
    "        for price in prices:\n",
    "            # 현재 가격이 최소 가격보다 작으면 최소 가격을 현재 가격으로 바꾸어 줌\n",
    "            if price < min_price:\n",
    "                min_price = price\n",
    "            # 이익 = 현재 가격에서 최소 가격을 뺀 이익과 현재 이익 중에서 큰 값\n",
    "            profit = max(profit, price - min_price)\n",
    "        return profit"
   ]
  },
  {
   "cell_type": "code",
   "execution_count": null,
   "metadata": {},
   "outputs": [],
   "source": [
    "# heap\n",
    "import heapq\n",
    "\n",
    "class Solution:\n",
    "    def maxProfit(self, prices: List[int]) -> int:\n",
    "        if len(prices) < 2:\n",
    "            return 0\n",
    "\n",
    "        my_heapq = []\n",
    "        profit = 0\n",
    "        \n",
    "        for price in prices:\n",
    "            heapq.heappush(my_heapq, price)\n",
    "            if price - my_heapq[0] > profit:\n",
    "                profit = price - my_heapq[0]\n",
    "                \n",
    "        return profit"
   ]
  }
 ],
 "metadata": {
  "kernelspec": {
   "display_name": "Python 3",
   "language": "python",
   "name": "python3"
  },
  "language_info": {
   "codemirror_mode": {
    "name": "ipython",
    "version": 3
   },
   "file_extension": ".py",
   "mimetype": "text/x-python",
   "name": "python",
   "nbconvert_exporter": "python",
   "pygments_lexer": "ipython3",
   "version": "3.7.6"
  }
 },
 "nbformat": 4,
 "nbformat_minor": 4
}
