{
 "cells": [
  {
   "cell_type": "markdown",
   "metadata": {},
   "source": [
    "### 71. Simplify Path"
   ]
  },
  {
   "cell_type": "code",
   "execution_count": 1,
   "metadata": {},
   "outputs": [],
   "source": [
    "class Solution:\n",
    "    def simplifyPath(self, path: str) -> str:\n",
    "        # slash 단위로 디렉토리명 나누기\n",
    "        dir = path.split(\"/\")\n",
    "        stack = []\n",
    "        # 디렉토리명 하나씩 확인하며\n",
    "        for i in dir:\n",
    "            # 현재 디렉토리(.) or 빈 문자열이면 넘어감\n",
    "            if i == \".\" or i == \"\":\n",
    "                continue\n",
    "            # 상위 디렉토리(..)이고 스택이 비지 않았으면 마지막 원소 꺼내기\n",
    "            elif i == \"..\":\n",
    "                if stack:\n",
    "                    stack.pop()\n",
    "            # 그 외 디렉토리명은 스택에 추가\n",
    "            else:\n",
    "                stack.append(i)\n",
    "        # slash 붙여서 연결\n",
    "        return \"/\" + \"/\".join(stack)"
   ]
  }
 ],
 "metadata": {
  "kernelspec": {
   "display_name": "Python 3",
   "language": "python",
   "name": "python3"
  },
  "language_info": {
   "codemirror_mode": {
    "name": "ipython",
    "version": 3
   },
   "file_extension": ".py",
   "mimetype": "text/x-python",
   "name": "python",
   "nbconvert_exporter": "python",
   "pygments_lexer": "ipython3",
   "version": "3.7.6"
  }
 },
 "nbformat": 4,
 "nbformat_minor": 4
}
