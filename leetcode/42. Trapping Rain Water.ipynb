{
 "cells": [
  {
   "cell_type": "markdown",
   "metadata": {},
   "source": [
    "### 42. Trapping Rain Water"
   ]
  },
  {
   "cell_type": "code",
   "execution_count": null,
   "metadata": {},
   "outputs": [],
   "source": [
    "# 교재 풀이\n",
    "class Solution:\n",
    "    def trap(self, height: List[int]) -> int:\n",
    "        if not height:\n",
    "            return 0\n",
    "        # 변수 초기값 설정\n",
    "        left, right = 0, len(height)-1\n",
    "        l_max, r_max = height[left], height[right]\n",
    "        water = 0\n",
    "        # 더 큰 값으로 max 값 갱신\n",
    "        while left < right:\n",
    "            l_max = max(height[left], l_max)\n",
    "            r_max = max(height[right], r_max)\n",
    "            # 투 포인터 이동하며 물 높이 더하기\n",
    "            if l_max <= r_max:\n",
    "                water += l_max - height[left]\n",
    "                left += 1\n",
    "            else:\n",
    "                water += r_max - height[right]\n",
    "                right -= 1\n",
    "        return water"
   ]
  }
 ],
 "metadata": {
  "kernelspec": {
   "display_name": "Python 3",
   "language": "python",
   "name": "python3"
  },
  "language_info": {
   "codemirror_mode": {
    "name": "ipython",
    "version": 3
   },
   "file_extension": ".py",
   "mimetype": "text/x-python",
   "name": "python",
   "nbconvert_exporter": "python",
   "pygments_lexer": "ipython3",
   "version": "3.7.6"
  }
 },
 "nbformat": 4,
 "nbformat_minor": 4
}
