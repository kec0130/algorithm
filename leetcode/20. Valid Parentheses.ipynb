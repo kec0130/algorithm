{
 "cells": [
  {
   "cell_type": "markdown",
   "metadata": {},
   "source": [
    "## 20. Valid Parentheses (유효한 괄호)\n",
    "- 대괄호, 중괄호, 소괄호로 이루어진 string 입력 받음\n",
    "- 열린 괄호가 같은 종류의 괄호로 닫히고, 순서에 맞게 닫힌 경우 True"
   ]
  },
  {
   "cell_type": "code",
   "execution_count": null,
   "metadata": {},
   "outputs": [],
   "source": [
    "class Solution:\n",
    "    def isValid(self, s: str) -> bool:\n",
    "        pairs = {\"(\": \")\",\n",
    "                 \"[\": \"]\",\n",
    "                 \"{\": \"}\"}\n",
    "        stack = []\n",
    "        for c in s:\n",
    "            if c in pairs.keys():\n",
    "                stack.append(c)\n",
    "            elif stack and pairs.get(stack[-1]) == c:\n",
    "                stack.pop()\n",
    "            else:\n",
    "                return False\n",
    "        return not stack"
   ]
  },
  {
   "cell_type": "code",
   "execution_count": null,
   "metadata": {},
   "outputs": [],
   "source": [
    "class Solution:\n",
    "    def isValid(self, s: str) -> bool:\n",
    "        pairs = {\"(\": \")\",\n",
    "                 \"[\": \"]\",\n",
    "                 \"{\": \"}\"}\n",
    "        stack = []\n",
    "        for c in s:\n",
    "            if c in pairs:\n",
    "                stack.append(pairs[c])\n",
    "            elif not stack or stack.pop() != c:\n",
    "                return False\n",
    "        return not stack"
   ]
  }
 ],
 "metadata": {
  "kernelspec": {
   "display_name": "Python 3",
   "language": "python",
   "name": "python3"
  },
  "language_info": {
   "codemirror_mode": {
    "name": "ipython",
    "version": 3
   },
   "file_extension": ".py",
   "mimetype": "text/x-python",
   "name": "python",
   "nbconvert_exporter": "python",
   "pygments_lexer": "ipython3",
   "version": "3.7.6"
  }
 },
 "nbformat": 4,
 "nbformat_minor": 4
}
