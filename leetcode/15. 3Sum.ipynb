{
 "cells": [
  {
   "cell_type": "markdown",
   "metadata": {},
   "source": [
    "### 15. 3Sum"
   ]
  },
  {
   "cell_type": "code",
   "execution_count": null,
   "metadata": {},
   "outputs": [],
   "source": [
    "# 6556ms\n",
    "class Solution:\n",
    "    def threeSum(self, nums: List[int]) -> List[List[int]]:\n",
    "        nums.sort()\n",
    "        result = []\n",
    "        # 요소가 3개 미만이면 빈 리스트 리턴\n",
    "        if len(nums) < 3:\n",
    "            return result\n",
    "        # 투 포인터로 범위 좁혀가며 합 계산\n",
    "        for i in range(len(nums)-2):            \n",
    "            left, right = i+1, len(nums)-1\n",
    "            while left < right:\n",
    "                sum = nums[left] + nums[i] + nums[right]\n",
    "                if sum < 0:\n",
    "                    left += 1\n",
    "                elif sum > 0:\n",
    "                    right -= 1\n",
    "                else:\n",
    "                    # 합이 0이 되는 세 수를 리스트에 추가\n",
    "                    result.append([nums[left], nums[i], nums[right]])\n",
    "                    left += 1\n",
    "                    right -= 1\n",
    "        # 중복 제거 위해 정렬\n",
    "        for j in range(len(result)):\n",
    "            result[j].sort\n",
    "        # 중복 제거\n",
    "        answer = []\n",
    "        for k in result:\n",
    "            if k not in answer:\n",
    "                answer.append(k)\n",
    "        return answer"
   ]
  },
  {
   "cell_type": "code",
   "execution_count": null,
   "metadata": {},
   "outputs": [],
   "source": [
    "# 교재 풀이 (1060ms)\n",
    "class Solution:\n",
    "    def threeSum(self, nums: List[int]) -> List[List[int]]:\n",
    "        nums.sort()\n",
    "        result = []\n",
    "        \n",
    "        for i in range(len(nums)-2):\n",
    "            # 중복값 skip\n",
    "            if i > 0 and nums[i] == nums[i-1]:\n",
    "                continue\n",
    "            # 투 포인터로 범위 좁혀가며 합 계산\n",
    "            left, right = i+1, len(nums)-1\n",
    "            while left < right:\n",
    "                if nums[left] + nums[i] + nums[right] < 0:\n",
    "                    left += 1\n",
    "                elif nums[left] + nums[i] + nums[right] > 0:\n",
    "                    right -= 1\n",
    "                else:\n",
    "                    # 합이 0이 되는 세 수를 리스트에 추가\n",
    "                    result.append([nums[left], nums[i], nums[right]])\n",
    "                    # 중복값 skip\n",
    "                    while left < right and nums[left] == nums[left+1]:\n",
    "                        left += 1\n",
    "                    while left < right and nums[right] == nums[right-1]:\n",
    "                        right -= 1\n",
    "                    left += 1\n",
    "                    right -= 1\n",
    "        return result"
   ]
  },
  {
   "cell_type": "code",
   "execution_count": null,
   "metadata": {},
   "outputs": [],
   "source": [
    "# 가장 빠른 풀이\n",
    "class Solution:\n",
    "    def threeSum(self, nums: List[int]) -> List[List[int]]:\n",
    "        if len(nums) < 3 or min(nums) > 0 or max(nums) < 0:\n",
    "            return []\n",
    "        res = []\n",
    "        count = defaultdict(int)\n",
    "        for num in nums:\n",
    "            count[num] += 1\n",
    "        nums = sorted(count)\n",
    "        for idx, num in enumerate(nums):\n",
    "            if num >= 0:\n",
    "                break\n",
    "            two_sum = - num\n",
    "            num2_min, num2_max = two_sum - nums[-1], two_sum / 2\n",
    "            i = bisect_left(nums, num2_min, idx + 1, len(nums) - 1)\n",
    "            j = bisect_left(nums, num2_max, i, len(nums) - 1)\n",
    "            for num2 in nums[i:j]:\n",
    "                num3 = two_sum - num2\n",
    "                if num3 in count:\n",
    "                    res.append((num, num2, num3))\n",
    "        for num in nums:\n",
    "            if count[num] > 1:\n",
    "                if num == 0 and count[num] >= 3:\n",
    "                    res.append((num, num, num))\n",
    "                elif num != 0 and 0 - 2 * num in count:\n",
    "                    res.append((num, num, 0 - 2 * num))\n",
    "        return res"
   ]
  }
 ],
 "metadata": {
  "kernelspec": {
   "display_name": "Python 3",
   "language": "python",
   "name": "python3"
  },
  "language_info": {
   "codemirror_mode": {
    "name": "ipython",
    "version": 3
   },
   "file_extension": ".py",
   "mimetype": "text/x-python",
   "name": "python",
   "nbconvert_exporter": "python",
   "pygments_lexer": "ipython3",
   "version": "3.7.6"
  }
 },
 "nbformat": 4,
 "nbformat_minor": 4
}
