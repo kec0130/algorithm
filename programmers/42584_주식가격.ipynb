{
 "cells": [
  {
   "cell_type": "markdown",
   "metadata": {
    "toc": true
   },
   "source": [
    "<h1>Contents<span class=\"tocSkip\"></span></h1>\n",
    "<div class=\"toc\"><ul class=\"toc-item\"></ul></div>"
   ]
  },
  {
   "cell_type": "code",
   "execution_count": null,
   "metadata": {},
   "outputs": [],
   "source": [
    "# brute force\n",
    "def solution(prices):\n",
    "    answer = [0] * len(prices)\n",
    "    for i in range(len(prices)):\n",
    "        for j in range(i + 1, len(prices)):\n",
    "            if prices[i] <= prices[j]:\n",
    "                answer[i] += 1\n",
    "            else:\n",
    "                answer[i] += 1\n",
    "                break\n",
    "    return answer"
   ]
  },
  {
   "cell_type": "code",
   "execution_count": null,
   "metadata": {},
   "outputs": [],
   "source": [
    "# deque\n",
    "from collections import deque\n",
    "\n",
    "def solution(prices):\n",
    "    answer = []\n",
    "    prices = deque(prices)\n",
    "    \n",
    "    while prices:\n",
    "        p = prices.popleft()\n",
    "        count = 0    # 가격이 떨어지지 않은 기간\n",
    "        for i in prices:\n",
    "            count += 1\n",
    "            if p > i:\n",
    "                break\n",
    "        answer.append(count)\n",
    "\n",
    "    return answer"
   ]
  },
  {
   "cell_type": "code",
   "execution_count": null,
   "metadata": {},
   "outputs": [],
   "source": [
    "# stack\n",
    "def solution(prices):\n",
    "    answer = [0] * len(prices)\n",
    "    stack = []\n",
    " \n",
    "    for i, price in enumerate(prices):\n",
    "        # 현재 가격이 스택에 저장된 마지막 가격보다 낮으면 가격이 떨어진 것\n",
    "        while stack and price < prices[stack[-1]]:\n",
    "            j = stack.pop()\n",
    "            answer[j] = i - j\n",
    "        # 스택에 아직 가격이 떨어지지 않은 현재 시간 저장\n",
    "        stack.append(i)\n",
    " \n",
    "    # stack에 남아있는 값들의 유지 시간 구하기\n",
    "    while stack:\n",
    "        j = stack.pop()\n",
    "        answer[j] = len(prices) - 1 - j\n",
    " \n",
    "    return answer"
   ]
  }
 ],
 "metadata": {
  "kernelspec": {
   "display_name": "Python 3",
   "language": "python",
   "name": "python3"
  },
  "language_info": {
   "codemirror_mode": {
    "name": "ipython",
    "version": 3
   },
   "file_extension": ".py",
   "mimetype": "text/x-python",
   "name": "python",
   "nbconvert_exporter": "python",
   "pygments_lexer": "ipython3",
   "version": "3.7.6"
  },
  "toc": {
   "base_numbering": 1,
   "nav_menu": {},
   "number_sections": false,
   "sideBar": true,
   "skip_h1_title": false,
   "title_cell": "Contents",
   "title_sidebar": "Contents",
   "toc_cell": true,
   "toc_position": {},
   "toc_section_display": true,
   "toc_window_display": false
  }
 },
 "nbformat": 4,
 "nbformat_minor": 4
}
